{
 "cells": [
  {
   "cell_type": "code",
   "execution_count": null,
   "metadata": {},
   "outputs": [],
   "source": [
    "import pandas as pd\n",
    "import nltk\n",
    "from nltk.tokenize.treebank import TreebankWordDetokenizer\n",
    "from nltk import word_tokenize\n",
    "nltk.download('punkt')\n",
    "df = pd.read_csv('test_contact.csv')\n",
    "\n",
    "# Transform strings in all columns to upper case\n",
    "df = df.astype(str).apply(lambda x: x.str.upper())\n",
    "\n",
    "address_stopword = [\"STREET\", \"ST\", \"PLACE\", \"RD\", \"ROAD\", \"AVE\"] \n",
    "df ['address_1_token'] = df['Address1'].apply(word_tokenize)\n",
    "df['address_1_clean'] = df['address_1_token'].apply(lambda x: [word for word in x if word not in address_stopword])\n",
    "df ['address_1_clean'] = df['address_1_clean'].apply(TreebankWordDetokenizer().detokenize)\n",
    "\n",
    "display(df)"
   ]
  }
 ],
 "metadata": {
  "kernelspec": {
   "display_name": "env",
   "language": "python",
   "name": "python3"
  },
  "language_info": {
   "codemirror_mode": {
    "name": "ipython",
    "version": 3
   },
   "file_extension": ".py",
   "mimetype": "text/x-python",
   "name": "python",
   "nbconvert_exporter": "python",
   "pygments_lexer": "ipython3",
   "version": "3.11.3"
  },
  "orig_nbformat": 4
 },
 "nbformat": 4,
 "nbformat_minor": 2
}
